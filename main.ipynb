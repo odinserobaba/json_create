{
 "cells": [
  {
   "cell_type": "code",
   "execution_count": 7,
   "metadata": {},
   "outputs": [],
   "source": [
    "# Импорт необходимых библиотек\n",
    "import pandas as pd\n",
    "import json\n",
    "import xml.etree.ElementTree as ET\n",
    "from lxml import etree as lxml_etree\n",
    "import unittest\n",
    "\n",
    "from csv_to_json import *\n",
    "from xml_parser import *\n",
    "\n"
   ]
  },
  {
   "cell_type": "code",
   "execution_count": 9,
   "metadata": {},
   "outputs": [
    {
     "name": "stdout",
     "output_type": "stream",
     "text": [
      "[{'Name': 'Alice', 'Age': 30, 'City': 'New York', 'Phone': '123-456-7890', 'Email': 'alice@example.com', 'DateOfBirth': '1993-01-15'}, {'Name': 'Bob', 'Age': 25, 'City': 'Los Angeles', 'Phone': '987-654-3210', 'Email': 'bob@example.com', 'DateOfBirth': '1998-05-23'}, {'Name': 'Charlie', 'Age': 35, 'City': 'Chicago', 'Phone': '555-555-5555', 'Email': 'u9G5h@example.com', 'DateOfBirth': '1988-10-10'}]\n"
     ]
    }
   ],
   "source": [
    "# Функция для преобразования CSV в JSON\n",
    "def csv_to_json(csv_file, delimiter=','):\n",
    "    df = pd.read_csv(csv_file, delimiter=delimiter)\n",
    "    json_data = df.to_dict(orient='records')\n",
    "    return json_data\n",
    "\n",
    "# Пример использования csv_to_json\n",
    "csv_file = 'test_data/example.csv'\n",
    "data = csv_to_json(csv_file)\n",
    "print(data)\n"
   ]
  },
  {
   "cell_type": "code",
   "execution_count": 14,
   "metadata": {},
   "outputs": [],
   "source": [
    "# Функция для сохранения JSON в файл\n",
    "def save_json(data, output_file, individual_files=False):\n",
    "    if individual_files:\n",
    "        for i, item in enumerate(data):\n",
    "            with open(f'{output_file}_{i}.json', 'w') as f:\n",
    "                json.dump(item, f, indent=4)\n",
    "    else:\n",
    "        with open(output_file, 'w') as f:\n",
    "            json.dump(data, f, indent=4)\n",
    "\n",
    "# Пример использования save_json\n",
    "json_file = 'output_jsons/output.json'\n",
    "save_json(data, json_file, individual_files=False)\n"
   ]
  },
  {
   "cell_type": "code",
   "execution_count": 17,
   "metadata": {},
   "outputs": [],
   "source": [
    "# Функция для сохранения JSON в файл\n",
    "def save_json(data, output_file, individual_files=False):\n",
    "    if individual_files:\n",
    "        for i, item in enumerate(data):\n",
    "            with open(f'{output_file}_{i}.json', 'w') as f:\n",
    "                json.dump(item, f, indent=4)\n",
    "    else:\n",
    "        with open(output_file, 'w') as f:\n",
    "            json.dump(data, f, indent=4)\n",
    "\n",
    "# Пример использования save_json\n",
    "json_file = 'output_jsons/output.json'\n",
    "save_json(data, json_file, individual_files=False)\n"
   ]
  },
  {
   "cell_type": "code",
   "execution_count": 18,
   "metadata": {},
   "outputs": [
    {
     "name": "stdout",
     "output_type": "stream",
     "text": [
      "<people><item><Name>Alice</Name><Age>30</Age><City>New York</City><Phone>123-456-7890</Phone><Email>alice@example.com</Email><DateOfBirth>1993-01-15</DateOfBirth></item><item><Name>Bob</Name><Age>25</Age><City>Los Angeles</City><Phone>987-654-3210</Phone><Email>bob@example.com</Email><DateOfBirth>1998-05-23</DateOfBirth></item><item><Name>Charlie</Name><Age>35</Age><City>Chicago</City><Phone>555-555-5555</Phone><Email>u9G5h@example.com</Email><DateOfBirth>1988-10-10</DateOfBirth></item></people>\n"
     ]
    }
   ],
   "source": [
    "# Функция для создания XML элемента\n",
    "def create_xml_element(parent, tag, text=None, attributes=None):\n",
    "    if attributes is None:\n",
    "        attributes = {}\n",
    "    element = ET.SubElement(parent, tag, attrib=attributes)\n",
    "    if text:\n",
    "        element.text = str(text)\n",
    "    return element\n",
    "\n",
    "# Рекурсивная функция для генерации XML\n",
    "def _generate_xml_recursive(parent, data):\n",
    "    if isinstance(data, dict):\n",
    "        for key, value in data.items():\n",
    "            child = create_xml_element(parent, key)\n",
    "            _generate_xml_recursive(child, value)\n",
    "    elif isinstance(data, list):\n",
    "        for item in data:\n",
    "            child = create_xml_element(parent, 'item')\n",
    "            _generate_xml_recursive(child, item)\n",
    "    else:\n",
    "        parent.text = str(data)\n",
    "\n",
    "# Функция для генерации XML из данных\n",
    "def generate_xml(data, root_tag='root'):\n",
    "    root = ET.Element(root_tag)\n",
    "    _generate_xml_recursive(root, data)\n",
    "    return ET.tostring(root, encoding='unicode')\n",
    "\n",
    "# Пример использования generate_xml\n",
    "root_tag = 'people'\n",
    "xml_string = generate_xml(data, root_tag)\n",
    "print(xml_string)\n"
   ]
  },
  {
   "cell_type": "code",
   "execution_count": 21,
   "metadata": {},
   "outputs": [],
   "source": [
    "# Функция для сохранения XML в файл\n",
    "def save_xml(xml_string, output_file):\n",
    "    with open(output_file, 'w') as f:\n",
    "        f.write(xml_string)\n",
    "\n",
    "# Пример использования save_xml\n",
    "xml_file = 'xml_parser/out_xml/generated_xml.xml'\n",
    "save_xml(xml_string, xml_file)\n"
   ]
  },
  {
   "cell_type": "code",
   "execution_count": 22,
   "metadata": {},
   "outputs": [
    {
     "name": "stdout",
     "output_type": "stream",
     "text": [
      "XML is valid: False\n"
     ]
    }
   ],
   "source": [
    "# Функция для проверки XML по XSD схеме\n",
    "def validate_xml(xml_string, xsd_file):\n",
    "    xml_doc = lxml_etree.fromstring(xml_string)\n",
    "    schema = lxml_etree.XMLSchema(lxml_etree.parse(xsd_file))\n",
    "    return schema.validate(xml_doc)\n",
    "\n",
    "# Пример использования validate_xml\n",
    "xsd_file = 'xml_parser/test_xml/schema.xsd'\n",
    "is_valid = validate_xml(xml_string, xsd_file)\n",
    "print(f'XML is valid: {is_valid}')\n"
   ]
  },
  {
   "cell_type": "code",
   "execution_count": 23,
   "metadata": {},
   "outputs": [
    {
     "name": "stdout",
     "output_type": "stream",
     "text": [
      "<people><item><Name>Alice</Name><Age>30</Age><City>New York</City><Phone>123-456-7890</Phone><Email>alice@example.com</Email><DateOfBirth>1993-01-15</DateOfBirth></item><item><Name>Bob</Name><Age>25</Age><City>Los Angeles</City><Phone>987-654-3210</Phone><Email>bob@example.com</Email><DateOfBirth>1998-05-23</DateOfBirth></item><item><Name>Charlie</Name><Age>35</Age><City>Chicago</City><Phone>555-555-5555</Phone><Email>u9G5h@example.com</Email><DateOfBirth>1988-10-10</DateOfBirth></item></people>\n"
     ]
    }
   ],
   "source": [
    "# Функция для чтения XML из файла\n",
    "def read_xml_from_file(xml_file):\n",
    "    with open(xml_file, 'r') as f:\n",
    "        return f.read()\n",
    "\n",
    "# Пример использования read_xml_from_file\n",
    "xml_content = read_xml_from_file(xml_file)\n",
    "print(xml_content)\n"
   ]
  },
  {
   "cell_type": "code",
   "execution_count": 24,
   "metadata": {},
   "outputs": [
    {
     "name": "stderr",
     "output_type": "stream",
     "text": [
      "...FFE\n",
      "======================================================================\n",
      "ERROR: test_write_xml_to_file (__main__.TestXMLUtils.test_write_xml_to_file)\n",
      "----------------------------------------------------------------------\n",
      "Traceback (most recent call last):\n",
      "  File \"C:\\Users\\user\\AppData\\Local\\Temp\\ipykernel_4176\\2511754388.py\", line 37, in test_write_xml_to_file\n",
      "    write_xml_to_file(xml_string, xml_file)\n",
      "    ^^^^^^^^^^^^^^^^^\n",
      "NameError: name 'write_xml_to_file' is not defined\n",
      "\n",
      "======================================================================\n",
      "FAIL: test_validate_xml_invalid (__main__.TestXMLUtils.test_validate_xml_invalid)\n",
      "----------------------------------------------------------------------\n",
      "Traceback (most recent call last):\n",
      "  File \"C:\\Users\\user\\AppData\\Local\\Temp\\ipykernel_4176\\2511754388.py\", line 27, in test_validate_xml_invalid\n",
      "    self.assertFalse(is_valid)\n",
      "AssertionError: True is not false\n",
      "\n",
      "======================================================================\n",
      "FAIL: test_validate_xml_valid (__main__.TestXMLUtils.test_validate_xml_valid)\n",
      "----------------------------------------------------------------------\n",
      "Traceback (most recent call last):\n",
      "  File \"C:\\Users\\user\\AppData\\Local\\Temp\\ipykernel_4176\\2511754388.py\", line 22, in test_validate_xml_valid\n",
      "    self.assertTrue(is_valid)\n",
      "AssertionError: False is not true\n",
      "\n",
      "----------------------------------------------------------------------\n",
      "Ran 6 tests in 0.013s\n",
      "\n",
      "FAILED (failures=2, errors=1)\n"
     ]
    },
    {
     "data": {
      "text/plain": [
       "<unittest.main.TestProgram at 0x1a916fd3390>"
      ]
     },
     "execution_count": 24,
     "metadata": {},
     "output_type": "execute_result"
    }
   ],
   "source": [
    "# Определение класса для юнит-тестов JSON утилит\n",
    "class TestJSONUtils(unittest.TestCase):\n",
    "    def test_save_json(self):\n",
    "        data = csv_to_json(csv_file)\n",
    "        save_json(data, json_file, individual_files=False)\n",
    "        with open(json_file, 'r') as f:\n",
    "            loaded_data = json.load(f)\n",
    "        self.assertEqual(data, loaded_data)\n",
    "\n",
    "# Определение класса для юнит-тестов XML утилит\n",
    "class TestXMLUtils(unittest.TestCase):\n",
    "    def test_generate_xml(self):\n",
    "        data = csv_to_json(csv_file)\n",
    "        xml_string = generate_xml(data, root_tag)\n",
    "        self.assertIn('<people>', xml_string)\n",
    "        self.assertIn('</people>', xml_string)\n",
    "\n",
    "    def test_validate_xml_valid(self):\n",
    "        data = csv_to_json(csv_file)\n",
    "        xml_string = generate_xml(data, root_tag)\n",
    "        is_valid = validate_xml(xml_string, xsd_file)\n",
    "        self.assertTrue(is_valid)\n",
    "\n",
    "    def test_validate_xml_invalid(self):\n",
    "        invalid_xml = '<people><person><name>Alice</name><age>30</age><city>New York</city></person></people>'\n",
    "        is_valid = validate_xml(invalid_xml, xsd_file)\n",
    "        self.assertFalse(is_valid)\n",
    "\n",
    "    def test_read_xml_from_file(self):\n",
    "        xml_content = read_xml_from_file(xml_file)\n",
    "        self.assertIn('<people>', xml_content)\n",
    "        self.assertIn('</people>', xml_content)\n",
    "\n",
    "    def test_write_xml_to_file(self):\n",
    "        data = csv_to_json(csv_file)\n",
    "        xml_string = generate_xml(data, root_tag)\n",
    "        write_xml_to_file(xml_string, xml_file)\n",
    "        with open(xml_file, 'r') as f:\n",
    "            loaded_xml = f.read()\n",
    "        self.assertEqual(xml_string, loaded_xml)\n",
    "\n",
    "# Запуск юнит-тестов\n",
    "unittest.main(argv=[''], exit=False)\n"
   ]
  },
  {
   "cell_type": "code",
   "execution_count": null,
   "metadata": {},
   "outputs": [],
   "source": []
  }
 ],
 "metadata": {
  "kernelspec": {
   "display_name": ".venv",
   "language": "python",
   "name": "python3"
  },
  "language_info": {
   "codemirror_mode": {
    "name": "ipython",
    "version": 3
   },
   "file_extension": ".py",
   "mimetype": "text/x-python",
   "name": "python",
   "nbconvert_exporter": "python",
   "pygments_lexer": "ipython3",
   "version": "3.11.1"
  }
 },
 "nbformat": 4,
 "nbformat_minor": 2
}
